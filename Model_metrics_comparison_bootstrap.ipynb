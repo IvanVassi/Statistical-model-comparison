{
 "cells": [
  {
   "cell_type": "code",
   "execution_count": 1,
   "metadata": {},
   "outputs": [],
   "source": [
    "from sklearn.metrics import roc_auc_score\n",
    "from sklearn.utils import resample\n",
    "import pandas as pd\n",
    "import numpy as np"
   ]
  },
  {
   "cell_type": "code",
   "execution_count": 2,
   "metadata": {},
   "outputs": [],
   "source": [
    "df = pd.read_csv(\"celeba_1.csv\")"
   ]
  },
  {
   "cell_type": "code",
   "execution_count": 4,
   "metadata": {},
   "outputs": [],
   "source": [
    "predictions = df['Scores']\n",
    "labels = df['Labels']"
   ]
  },
  {
   "cell_type": "code",
   "execution_count": 5,
   "metadata": {},
   "outputs": [],
   "source": [
    "bootstrap_iter = 1000\n",
    "sample_size = 10000\n",
    "auc_metrics = []\n",
    "confidence = 0.95"
   ]
  },
  {
   "cell_type": "code",
   "execution_count": 6,
   "metadata": {},
   "outputs": [],
   "source": [
    "lower = ((1.0-confidence)/2.0) * 100\n",
    "upper = (confidence+((1.0-confidence)/2.0)) * 100"
   ]
  },
  {
   "cell_type": "code",
   "execution_count": 8,
   "metadata": {},
   "outputs": [],
   "source": [
    "for i in range(bootstrap_iter):\n",
    "    sample = resample(predictions, labels, n_samples=sample_size)\n",
    "    auc = roc_auc_score(sample[1],sample[0])\n",
    "    auc_metrics.append(auc)"
   ]
  },
  {
   "cell_type": "code",
   "execution_count": 9,
   "metadata": {},
   "outputs": [],
   "source": [
    "conf_interval = np.percentile(auc_metrics,[lower, upper])"
   ]
  },
  {
   "cell_type": "code",
   "execution_count": 11,
   "metadata": {},
   "outputs": [
    {
     "name": "stdout",
     "output_type": "stream",
     "text": [
      "Avearge:  0.9991762025791029\n",
      "Standard deviation:  0.00017990950698764738\n"
     ]
    }
   ],
   "source": [
    "print('Avearge: ', np.mean(auc_metrics))\n",
    "print('Standard deviation: ', np.std(auc_metrics))"
   ]
  },
  {
   "cell_type": "raw",
   "metadata": {},
   "source": [
    "celeba_1\n",
    "Avearge:  0.9991456406529985\n",
    "Standard deviation:  0.0006247821329901168\n",
    "\n",
    "celeba_2\n",
    "Avearge:  0.8369479595502396\n",
    "Standard deviation:  0.013258783397974448"
   ]
  },
  {
   "cell_type": "code",
   "execution_count": null,
   "metadata": {},
   "outputs": [],
   "source": []
  },
  {
   "cell_type": "code",
   "execution_count": null,
   "metadata": {},
   "outputs": [],
   "source": []
  }
 ],
 "metadata": {
  "kernelspec": {
   "display_name": "Python 3",
   "language": "python",
   "name": "python3"
  },
  "language_info": {
   "codemirror_mode": {
    "name": "ipython",
    "version": 3
   },
   "file_extension": ".py",
   "mimetype": "text/x-python",
   "name": "python",
   "nbconvert_exporter": "python",
   "pygments_lexer": "ipython3",
   "version": "3.8.3"
  }
 },
 "nbformat": 4,
 "nbformat_minor": 4
}
